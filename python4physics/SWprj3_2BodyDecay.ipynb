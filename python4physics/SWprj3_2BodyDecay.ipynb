{
  "nbformat": 4,
  "nbformat_minor": 0,
  "metadata": {
    "colab": {
      "provenance": [],
      "include_colab_link": true
    },
    "kernelspec": {
      "name": "python3",
      "display_name": "Python 3"
    },
    "language_info": {
      "name": "python"
    }
  },
  "cells": [
    {
      "cell_type": "markdown",
      "metadata": {
        "id": "view-in-github",
        "colab_type": "text"
      },
      "source": [
        "<a href=\"https://colab.research.google.com/github/panda667/panda667.github.io/blob/main/SWprj3_2BodyDecay.ipynb\" target=\"_parent\"><img src=\"https://colab.research.google.com/assets/colab-badge.svg\" alt=\"Open In Colab\"/></a>"
      ]
    },
    {
      "cell_type": "markdown",
      "source": [
        "**Project #3**"
      ],
      "metadata": {
        "id": "cwLHy6gM4BIX"
      }
    },
    {
      "cell_type": "code",
      "source": [
        "import matplotlib.pyplot as plt\n",
        "import numpy as np\n",
        "from google.colab import files"
      ],
      "metadata": {
        "id": "wDW8fxj66O--"
      },
      "execution_count": 1,
      "outputs": []
    },
    {
      "cell_type": "markdown",
      "source": [
        "If we want to save our data to google drive, we have to connect our Python notebook to our google drive account! Running this will ask us to confirm that we want this notebook to be able to access drive. This will also make a folder called 'Python4Physics' in your google drive"
      ],
      "metadata": {
        "id": "JCmr56OL4apa"
      }
    },
    {
      "cell_type": "code",
      "execution_count": 7,
      "metadata": {
        "id": "PqiZxn_u3-qz",
        "colab": {
          "base_uri": "https://localhost:8080/",
          "height": 56
        },
        "outputId": "86d18b63-70af-4f1c-ce80-ea00a2b87c88"
      },
      "outputs": [
        {
          "output_type": "stream",
          "name": "stdout",
          "text": [
            "Mounted at /content/drive\n"
          ]
        },
        {
          "output_type": "execute_result",
          "data": {
            "text/plain": [
              "'!mkdir -p \"/content/drive/My Drive/Python4Physics\"\\nfilepath=\"drive/My Drive/Python4Physics/\"\\n'"
            ],
            "application/vnd.google.colaboratory.intrinsic+json": {
              "type": "string"
            }
          },
          "metadata": {},
          "execution_count": 7
        }
      ],
      "source": [
        "from google.colab import drive\n",
        "drive.mount('/content/drive')\n",
        "'''!mkdir -p \"/content/drive/My Drive/Python4Physics\"\n",
        "filepath=\"drive/My Drive/Python4Physics/\"\n",
        "'''"
      ]
    },
    {
      "cell_type": "code",
      "source": [
        "filename = 'pBs_2body_decay.txt'\n",
        "q0s = np.loadtxt(filename)\n",
        "print(\"q0s = \", q0s[0:10])\n",
        "print(\"type(q0s) = \", type(q0s))\n",
        "print(\"shape(q0s) = \", np.shape(q0s))"
      ],
      "metadata": {
        "id": "TcMTT5AM50dt",
        "outputId": "d3d5fd55-3a82-4196-e8d3-241126b26fe1",
        "colab": {
          "base_uri": "https://localhost:8080/"
        }
      },
      "execution_count": 8,
      "outputs": [
        {
          "output_type": "stream",
          "name": "stdout",
          "text": [
            "q0s =  [0.7338822  0.73414999 0.73213688 0.73275698 0.73319379 0.73484167\n",
            " 0.73355556 0.73283873 0.73216609 0.73458736]\n",
            "type(q0s) =  <class 'numpy.ndarray'>\n",
            "shape(q0s) =  (1000,)\n"
          ]
        }
      ]
    },
    {
      "cell_type": "code",
      "source": [
        "# let us make a figure using the axes class\n",
        "# first, we create a new figure, we will also learn about multi-line comments created with ''' or \"\"\"\n",
        "# Matplotlib user guide: https://matplotlib.org/stable/users/index.html\n",
        "fig = plt.figure()\n",
        "''' next, we create a axes canvas.  The 4 numbers represent\n",
        "    ax = plt.axes([x0, y0, dx, dy])\n",
        "    - x0: width from left to start canvas (in units of 0 - 1)\n",
        "    - y0: height from bottome to start canvas\n",
        "    - dx: width of canvas - NOTE, x0 + dx <= 1\n",
        "    - dy: height of canvas - NOTE, y0 + dy <= 1\n",
        "'''\n",
        "ax    = plt.axes([0.12, 0.12, 0.87, 0.87])\n",
        "''' Now let us plot the histogram\n",
        "    - Nbins  : the number of bins to use\n",
        "    - alpha  : a parameter taking the value [0, 1] that controls opacity\n",
        "    - ;      : the semi-colon at the end prevents the function from printing\n",
        "               values of the histogram - try removing it\n",
        "    - density: it True, normalize so that int(hist) = 1\n",
        "\n",
        "'''\n",
        "Nbins = 50\n",
        "ax.hist(q0s, bins=Nbins, alpha=.5, density=True, label='data');\n",
        "\n",
        "# let us make some axis labels\n",
        "ax.set_ylabel(r'count', fontsize=20);\n",
        "ax.set_xlabel(r'momentum, $p_B$', fontsize=20);"
      ],
      "metadata": {
        "id": "_llZ8euYDDuX",
        "outputId": "a85a05c1-129d-4938-e635-4c70fae00b52",
        "colab": {
          "base_uri": "https://localhost:8080/",
          "height": 513
        }
      },
      "execution_count": 9,
      "outputs": [
        {
          "output_type": "display_data",
          "data": {
            "text/plain": [
              "<Figure size 640x480 with 1 Axes>"
            ],
            "image/png": "[encoded data removed]"
          },
          "metadata": {}
        }
      ]
    },
    {
      "cell_type": "code",
      "source": [
        "# let us make a figure using the axes class\n",
        "# first, we create a new figure, we will also learn about multi-line comments created with ''' or \"\"\"\n",
        "# Matplotlib user guide: https://matplotlib.org/stable/users/index.html\n",
        "fig = plt.figure()\n",
        "''' next, we create a axes canvas.  The 4 numbers represent\n",
        "    ax = plt.axes([x0, y0, dx, dy])\n",
        "    - x0: width from left to start canvas (in units of 0 - 1)\n",
        "    - y0: height from bottome to start canvas\n",
        "    - dx: width of canvas - NOTE, x0 + dx <= 1\n",
        "    - dy: height of canvas - NOTE, y0 + dy <= 1\n",
        "'''\n",
        "ax    = plt.axes([0.12, 0.12, 0.87, 0.87])\n",
        "''' Now let us plot the histogram\n",
        "    - Nbins  : the number of bins to use\n",
        "    - alpha  : a parameter taking the value [0, 1] that controls opacity\n",
        "    - ;      : the semi-colon at the end prevents the function from printing\n",
        "               values of the histogram - try removing it\n",
        "    - density: it True, normalize so that int(hist) = 1\n",
        "\n",
        "'''\n",
        "Nbins = 50\n",
        "ax.hist(q0s, bins=Nbins, alpha=.5, density=True, label='data');\n",
        "\n",
        "# let us make some axis labels\n",
        "ax.set_ylabel(r'count', fontsize=20);\n",
        "ax.set_xlabel(r'momentum, $p_B$', fontsize=20);\n",
        "\n",
        "# plot the mean value\n",
        "ax.axvline(q0s.mean(), color='k')\n",
        "# plot the standard deviation\n",
        "ax.axvline(q0s.mean()-q0s.std(), color='k', linestyle='--')\n",
        "ax.axvline(q0s.mean()+q0s.std(), color='k', linestyle='--')\n",
        "\n",
        "# median\n",
        "i_sort = q0s.argsort()\n",
        "median = q0s[i_sort][len(q0s)//2]\n",
        "ax.axvline(q0s.mean(), color='r', linestyle='--')"
      ],
      "metadata": {
        "id": "errOtY8LDsiD",
        "outputId": "527a4fc2-acad-432f-f650-d314135bac69",
        "colab": {
          "base_uri": "https://localhost:8080/",
          "height": 532
        }
      },
      "execution_count": 10,
      "outputs": [
        {
          "output_type": "execute_result",
          "data": {
            "text/plain": [
              "<matplotlib.lines.Line2D at 0x7d3d841d7e50>"
            ]
          },
          "metadata": {},
          "execution_count": 10
        },
        {
          "output_type": "display_data",
          "data": {
            "text/plain": [
              "<Figure size 640x480 with 1 Axes>"
            ],
            "image/png": "[encoded data removed]"
          },
          "metadata": {}
        }
      ]
    },
    {
      "cell_type": "code",
      "source": [
        "# let us make a figure using the axes class\n",
        "# first, we create a new figure, we will also learn about multi-line comments created with ''' or \"\"\"\n",
        "# Matplotlib user guide: https://matplotlib.org/stable/users/index.html\n",
        "fig = plt.figure()\n",
        "''' next, we create a axes canvas.  The 4 numbers represent\n",
        "    ax = plt.axes([x0, y0, dx, dy])\n",
        "    - x0: width from left to start canvas (in units of 0 - 1)\n",
        "    - y0: height from bottome to start canvas\n",
        "    - dx: width of canvas - NOTE, x0 + dx <= 1\n",
        "    - dy: height of canvas - NOTE, y0 + dy <= 1\n",
        "'''\n",
        "ax    = plt.axes([0.12, 0.12, 0.87, 0.87])\n",
        "''' Now let us plot the histogram\n",
        "    - Nbins  : the number of bins to use\n",
        "    - alpha  : a parameter taking the value [0, 1] that controls opacity\n",
        "    - ;      : the semi-colon at the end prevents the function from printing\n",
        "               values of the histogram - try removing it\n",
        "    - density: it True, normalize so that int(hist) = 1\n",
        "\n",
        "'''\n",
        "Nbins = 50\n",
        "ax.hist(q0s, bins=Nbins, alpha=.5, density=True, label='data');\n",
        "\n",
        "# let us make some axis labels\n",
        "ax.set_ylabel(r'count', fontsize=20);\n",
        "ax.set_xlabel(r'momentum, $p_B$', fontsize=20);\n",
        "\n",
        "# plot the mean value\n",
        "ax.axvline(q0s.mean(), color='k')\n",
        "# plot the standard deviation\n",
        "ax.axvline(q0s.mean()-q0s.std(), color='k', linestyle='--')\n",
        "ax.axvline(q0s.mean()+q0s.std(), color='k', linestyle='--')\n",
        "\n",
        "# median\n",
        "i_sort = q0s.argsort()\n",
        "median = q0s[i_sort][len(q0s)//2]\n",
        "ax.axvline(q0s.mean(), color='r', linestyle='--')\n",
        "\n",
        "# plot Gaussian [normal] distrubution\n",
        "''' If the data is \"normally distributed\", it will have the shape of a Gaussian\n",
        "    see https://en.wikipedia.org/wiki/Normal_distribution\n",
        "\n",
        "    prob(x) = Norm * exp( -(x - x_mean) / 2 / sigma**2)\n",
        "\n",
        "    solve for Norm by\n",
        "\n",
        "    1 = integral[-inf, inf] dx prob(x)\n",
        "\n",
        "    Norm = 1 / sqrt(2 * pi * sigma**2)\n",
        "'''\n",
        "# create linespace\n",
        "n_plot = 10000\n",
        "x_min  = min(q0s)\n",
        "x_max  = max(q0s)\n",
        "x_plot = np.arange(x_min, x_max + (x_max-x_min)/n_plot, 1/n_plot)\n",
        "\n",
        "def mom_dist(x, x_mean, x_sigma):\n",
        "  Norm = 1 / np.sqrt( (2 * np.pi * x_sigma**2) )\n",
        "  prob = Norm * np.exp( -(x - x_mean)**2 / 2 / x_sigma**2)\n",
        "\n",
        "  return prob\n",
        "\n",
        "gauss = mom_dist(x_plot, q0s.mean(), q0s.std())\n",
        "ax.plot(x_plot, gauss, color='magenta', label='Gaussian approximation')\n",
        "\n",
        "# plot our legend\n",
        "ax.legend(loc=2)"
      ],
      "metadata": {
        "id": "1PR7xpvb6vuO",
        "colab": {
          "base_uri": "https://localhost:8080/",
          "height": 532
        },
        "outputId": "09d915dd-a1d7-4293-82f5-9350b7fcfae5"
      },
      "execution_count": 11,
      "outputs": [
        {
          "output_type": "execute_result",
          "data": {
            "text/plain": [
              "<matplotlib.legend.Legend at 0x7d3d6160ca00>"
            ]
          },
          "metadata": {},
          "execution_count": 11
        },
        {
          "output_type": "display_data",
          "data": {
            "text/plain": [
              "<Figure size 640x480 with 1 Axes>"
            ],
            "image/png": "[encoded data removed]"
          },
          "metadata": {}
        }
      ]
    },
    {
      "cell_type": "code",
      "source": [
        "help(ax.hist)"
      ],
      "metadata": {
        "id": "WHnTvUif9Kss",
        "colab": {
          "base_uri": "https://localhost:8080/"
        },
        "outputId": "6160a5fc-0f2d-4c14-efd7-9a4cc946da92"
      },
      "execution_count": 12,
      "outputs": [
        {
          "output_type": "stream",
          "name": "stdout",
          "text": [
            "Help on method hist in module matplotlib.axes._axes:\n",
            "\n",
            "hist(x, bins=None, range=None, density=False, weights=None, cumulative=False, bottom=None, histtype='bar', align='mid', orientation='vertical', rwidth=None, log=False, color=None, label=None, stacked=False, *, data=None, **kwargs) method of matplotlib.axes._axes.Axes instance\n",
            "    Compute and plot a histogram.\n",
            "    \n",
            "    This method uses `numpy.histogram` to bin the data in *x* and count the\n",
            "    number of values in each bin, then draws the distribution either as a\n",
            "    `.BarContainer` or `.Polygon`. The *bins*, *range*, *density*, and\n",
            "    *weights* parameters are forwarded to `numpy.histogram`.\n",
            "    \n",
            "    If the data has already been binned and counted, use `~.bar` or\n",
            "    `~.stairs` to plot the distribution::\n",
            "    \n",
            "        counts, bins = np.histogram(x)\n",
            "        plt.stairs(counts, bins)\n",
            "    \n",
            "    Alternatively, plot pre-computed bins and counts using ``hist()`` by\n",
            "    treating each bin as a single point with a weight equal to its count::\n",
            "    \n",
            "        plt.hist(bins[:-1], bins, weights=counts)\n",
            "    \n",
            "    The data input *x* can be a singular array, a list of datasets of\n",
            "    potentially different lengths ([*x0*, *x1*, ...]), or a 2D ndarray in\n",
            "    which each column is a dataset. Note that the ndarray form is\n",
            "    transposed relative to the list form. If the input is an array, then\n",
            "    the return value is a tuple (*n*, *bins*, *patches*); if the input is a\n",
            "    sequence of arrays, then the return value is a tuple\n",
            "    ([*n0*, *n1*, ...], *bins*, [*patches0*, *patches1*, ...]).\n",
            "    \n",
            "    Masked arrays are not supported.\n",
            "    \n",
            "    Parameters\n",
            "    ----------\n",
            "    x : (n,) array or sequence of (n,) arrays\n",
            "        Input values, this takes either a single array or a sequence of\n",
            "        arrays which are not required to be of the same length.\n",
            "    \n",
            "    bins : int or sequence or str, default: :rc:`hist.bins`\n",
            "        If *bins* is an integer, it defines the number of equal-width bins\n",
            "        in the range.\n",
            "    \n",
            "        If *bins* is a sequence, it defines the bin edges, including the\n",
            "        left edge of the first bin and the right edge of the last bin;\n",
            "        in this case, bins may be unequally spaced.  All but the last\n",
            "        (righthand-most) bin is half-open.  In other words, if *bins* is::\n",
            "    \n",
            "            [1, 2, 3, 4]\n",
            "    \n",
            "        then the first bin is ``[1, 2)`` (including 1, but excluding 2) and\n",
            "        the second ``[2, 3)``.  The last bin, however, is ``[3, 4]``, which\n",
            "        *includes* 4.\n",
            "    \n",
            "        If *bins* is a string, it is one of the binning strategies\n",
            "        supported by `numpy.histogram_bin_edges`: 'auto', 'fd', 'doane',\n",
            "        'scott', 'stone', 'rice', 'sturges', or 'sqrt'.\n",
            "    \n",
            "    range : tuple or None, default: None\n",
            "        The lower and upper range of the bins. Lower and upper outliers\n",
            "        are ignored. If not provided, *range* is ``(x.min(), x.max())``.\n",
            "        Range has no effect if *bins* is a sequence.\n",
            "    \n",
            "        If *bins* is a sequence or *range* is specified, autoscaling\n",
            "        is based on the specified bin range instead of the\n",
            "        range of x.\n",
            "    \n",
            "    density : bool, default: False\n",
            "        If ``True``, draw and return a probability density: each bin\n",
            "        will display the bin's raw count divided by the total number of\n",
            "        counts *and the bin width*\n",
            "        (``density = counts / (sum(counts) * np.diff(bins))``),\n",
            "        so that the area under the histogram integrates to 1\n",
            "        (``np.sum(density * np.diff(bins)) == 1``).\n",
            "    \n",
            "        If *stacked* is also ``True``, the sum of the histograms is\n",
            "        normalized to 1.\n",
            "    \n",
            "    weights : (n,) array-like or None, default: None\n",
            "        An array of weights, of the same shape as *x*.  Each value in\n",
            "        *x* only contributes its associated weight towards the bin count\n",
            "        (instead of 1).  If *density* is ``True``, the weights are\n",
            "        normalized, so that the integral of the density over the range\n",
            "        remains 1.\n",
            "    \n",
            "    cumulative : bool or -1, default: False\n",
            "        If ``True``, then a histogram is computed where each bin gives the\n",
            "        counts in that bin plus all bins for smaller values. The last bin\n",
            "        gives the total number of datapoints.\n",
            "    \n",
            "        If *density* is also ``True`` then the histogram is normalized such\n",
            "        that the last bin equals 1.\n",
            "    \n",
            "        If *cumulative* is a number less than 0 (e.g., -1), the direction\n",
            "        of accumulation is reversed.  In this case, if *density* is also\n",
            "        ``True``, then the histogram is normalized such that the first bin\n",
            "        equals 1.\n",
            "    \n",
            "    bottom : array-like, scalar, or None, default: None\n",
            "        Location of the bottom of each bin, i.e. bins are drawn from\n",
            "        ``bottom`` to ``bottom + hist(x, bins)`` If a scalar, the bottom\n",
            "        of each bin is shifted by the same amount. If an array, each bin\n",
            "        is shifted independently and the length of bottom must match the\n",
            "        number of bins. If None, defaults to 0.\n",
            "    \n",
            "    histtype : {'bar', 'barstacked', 'step', 'stepfilled'}, default: 'bar'\n",
            "        The type of histogram to draw.\n",
            "    \n",
            "        - 'bar' is a traditional bar-type histogram.  If multiple data\n",
            "          are given the bars are arranged side by side.\n",
            "        - 'barstacked' is a bar-type histogram where multiple\n",
            "          data are stacked on top of each other.\n",
            "        - 'step' generates a lineplot that is by default unfilled.\n",
            "        - 'stepfilled' generates a lineplot that is by default filled.\n",
            "    \n",
            "    align : {'left', 'mid', 'right'}, default: 'mid'\n",
            "        The horizontal alignment of the histogram bars.\n",
            "    \n",
            "        - 'left': bars are centered on the left bin edges.\n",
            "        - 'mid': bars are centered between the bin edges.\n",
            "        - 'right': bars are centered on the right bin edges.\n",
            "    \n",
            "    orientation : {'vertical', 'horizontal'}, default: 'vertical'\n",
            "        If 'horizontal', `~.Axes.barh` will be used for bar-type histograms\n",
            "        and the *bottom* kwarg will be the left edges.\n",
            "    \n",
            "    rwidth : float or None, default: None\n",
            "        The relative width of the bars as a fraction of the bin width.  If\n",
            "        ``None``, automatically compute the width.\n",
            "    \n",
            "        Ignored if *histtype* is 'step' or 'stepfilled'.\n",
            "    \n",
            "    log : bool, default: False\n",
            "        If ``True``, the histogram axis will be set to a log scale.\n",
            "    \n",
            "    color : color or array-like of colors or None, default: None\n",
            "        Color or sequence of colors, one per dataset.  Default (``None``)\n",
            "        uses the standard line color sequence.\n",
            "    \n",
            "    label : str or None, default: None\n",
            "        String, or sequence of strings to match multiple datasets.  Bar\n",
            "        charts yield multiple patches per dataset, but only the first gets\n",
            "        the label, so that `~.Axes.legend` will work as expected.\n",
            "    \n",
            "    stacked : bool, default: False\n",
            "        If ``True``, multiple data are stacked on top of each other If\n",
            "        ``False`` multiple data are arranged side by side if histtype is\n",
            "        'bar' or on top of each other if histtype is 'step'\n",
            "    \n",
            "    Returns\n",
            "    -------\n",
            "    n : array or list of arrays\n",
            "        The values of the histogram bins. See *density* and *weights* for a\n",
            "        description of the possible semantics.  If input *x* is an array,\n",
            "        then this is an array of length *nbins*. If input is a sequence of\n",
            "        arrays ``[data1, data2, ...]``, then this is a list of arrays with\n",
            "        the values of the histograms for each of the arrays in the same\n",
            "        order.  The dtype of the array *n* (or of its element arrays) will\n",
            "        always be float even if no weighting or normalization is used.\n",
            "    \n",
            "    bins : array\n",
            "        The edges of the bins. Length nbins + 1 (nbins left edges and right\n",
            "        edge of last bin).  Always a single array even when multiple data\n",
            "        sets are passed in.\n",
            "    \n",
            "    patches : `.BarContainer` or list of a single `.Polygon` or list of such objects\n",
            "        Container of individual artists used to create the histogram\n",
            "        or list of such containers if there are multiple input datasets.\n",
            "    \n",
            "    Other Parameters\n",
            "    ----------------\n",
            "    data : indexable object, optional\n",
            "        If given, the following parameters also accept a string ``s``, which is\n",
            "        interpreted as ``data[s]`` (unless this raises an exception):\n",
            "    \n",
            "        *x*, *weights*\n",
            "    \n",
            "    **kwargs\n",
            "        `~matplotlib.patches.Patch` properties\n",
            "    \n",
            "    See Also\n",
            "    --------\n",
            "    hist2d : 2D histogram with rectangular bins\n",
            "    hexbin : 2D histogram with hexagonal bins\n",
            "    \n",
            "    Notes\n",
            "    -----\n",
            "    For large numbers of bins (>1000), plotting can be significantly faster\n",
            "    if *histtype* is set to 'step' or 'stepfilled' rather than 'bar' or\n",
            "    'barstacked'.\n",
            "\n"
          ]
        }
      ]
    }
  ]
}
